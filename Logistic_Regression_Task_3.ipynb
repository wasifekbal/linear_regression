{
 "cells": [
  {
   "cell_type": "code",
   "execution_count": 2,
   "metadata": {},
   "outputs": [],
   "source": [
    "import pandas as pd\n",
    "import numpy as np\n",
    "import matplotlib.pyplot as plt\n",
    "import seaborn as sns\n",
    "from sklearn.model_selection import train_test_split\n",
    "from sklearn.metrics import accuracy_score"
   ]
  },
  {
   "cell_type": "code",
   "execution_count": 3,
   "metadata": {},
   "outputs": [],
   "source": [
    "plt.style.use('fivethirtyeight')"
   ]
  },
  {
   "cell_type": "code",
   "execution_count": 4,
   "metadata": {},
   "outputs": [],
   "source": [
    "df = pd.read_csv('logistic_reg_dataset.txt',sep=',')"
   ]
  },
  {
   "cell_type": "code",
   "execution_count": 5,
   "metadata": {},
   "outputs": [
    {
     "data": {
      "text/html": [
       "<div>\n",
       "<style scoped>\n",
       "    .dataframe tbody tr th:only-of-type {\n",
       "        vertical-align: middle;\n",
       "    }\n",
       "\n",
       "    .dataframe tbody tr th {\n",
       "        vertical-align: top;\n",
       "    }\n",
       "\n",
       "    .dataframe thead th {\n",
       "        text-align: right;\n",
       "    }\n",
       "</style>\n",
       "<table border=\"1\" class=\"dataframe\">\n",
       "  <thead>\n",
       "    <tr style=\"text-align: right;\">\n",
       "      <th></th>\n",
       "      <th>Marks_1</th>\n",
       "      <th>Marks_2</th>\n",
       "      <th>Result</th>\n",
       "    </tr>\n",
       "  </thead>\n",
       "  <tbody>\n",
       "    <tr>\n",
       "      <td>0</td>\n",
       "      <td>34.623660</td>\n",
       "      <td>78.024693</td>\n",
       "      <td>0</td>\n",
       "    </tr>\n",
       "    <tr>\n",
       "      <td>1</td>\n",
       "      <td>30.286711</td>\n",
       "      <td>43.894998</td>\n",
       "      <td>0</td>\n",
       "    </tr>\n",
       "    <tr>\n",
       "      <td>2</td>\n",
       "      <td>35.847409</td>\n",
       "      <td>72.902198</td>\n",
       "      <td>0</td>\n",
       "    </tr>\n",
       "    <tr>\n",
       "      <td>3</td>\n",
       "      <td>60.182599</td>\n",
       "      <td>86.308552</td>\n",
       "      <td>1</td>\n",
       "    </tr>\n",
       "    <tr>\n",
       "      <td>4</td>\n",
       "      <td>79.032736</td>\n",
       "      <td>75.344376</td>\n",
       "      <td>1</td>\n",
       "    </tr>\n",
       "    <tr>\n",
       "      <td>...</td>\n",
       "      <td>...</td>\n",
       "      <td>...</td>\n",
       "      <td>...</td>\n",
       "    </tr>\n",
       "    <tr>\n",
       "      <td>95</td>\n",
       "      <td>83.489163</td>\n",
       "      <td>48.380286</td>\n",
       "      <td>1</td>\n",
       "    </tr>\n",
       "    <tr>\n",
       "      <td>96</td>\n",
       "      <td>42.261701</td>\n",
       "      <td>87.103851</td>\n",
       "      <td>1</td>\n",
       "    </tr>\n",
       "    <tr>\n",
       "      <td>97</td>\n",
       "      <td>99.315009</td>\n",
       "      <td>68.775409</td>\n",
       "      <td>1</td>\n",
       "    </tr>\n",
       "    <tr>\n",
       "      <td>98</td>\n",
       "      <td>55.340018</td>\n",
       "      <td>64.931938</td>\n",
       "      <td>1</td>\n",
       "    </tr>\n",
       "    <tr>\n",
       "      <td>99</td>\n",
       "      <td>74.775893</td>\n",
       "      <td>89.529813</td>\n",
       "      <td>1</td>\n",
       "    </tr>\n",
       "  </tbody>\n",
       "</table>\n",
       "<p>100 rows × 3 columns</p>\n",
       "</div>"
      ],
      "text/plain": [
       "      Marks_1    Marks_2  Result\n",
       "0   34.623660  78.024693       0\n",
       "1   30.286711  43.894998       0\n",
       "2   35.847409  72.902198       0\n",
       "3   60.182599  86.308552       1\n",
       "4   79.032736  75.344376       1\n",
       "..        ...        ...     ...\n",
       "95  83.489163  48.380286       1\n",
       "96  42.261701  87.103851       1\n",
       "97  99.315009  68.775409       1\n",
       "98  55.340018  64.931938       1\n",
       "99  74.775893  89.529813       1\n",
       "\n",
       "[100 rows x 3 columns]"
      ]
     },
     "execution_count": 5,
     "metadata": {},
     "output_type": "execute_result"
    }
   ],
   "source": [
    "df"
   ]
  },
  {
   "cell_type": "code",
   "execution_count": 6,
   "metadata": {},
   "outputs": [],
   "source": [
    "X = df.iloc[:,0:2].values\n",
    "y = df.iloc[:,-1].values"
   ]
  },
  {
   "cell_type": "code",
   "execution_count": 9,
   "metadata": {},
   "outputs": [
    {
     "data": {
      "text/plain": [
       "array([0., 0.])"
      ]
     },
     "execution_count": 9,
     "metadata": {},
     "output_type": "execute_result"
    }
   ],
   "source": [
    "w = np.zeros(X.shape[1])\n",
    "w"
   ]
  },
  {
   "cell_type": "code",
   "execution_count": 12,
   "metadata": {},
   "outputs": [],
   "source": [
    "h = 1/(1 + np.exp(-(np.dot(X,w))))"
   ]
  },
  {
   "cell_type": "code",
   "execution_count": 21,
   "metadata": {},
   "outputs": [
    {
     "data": {
      "text/plain": [
       "0.6931471805599458"
      ]
     },
     "execution_count": 21,
     "metadata": {},
     "output_type": "execute_result"
    }
   ],
   "source": [
    "-sum(y*np.log(h)+(1-y)*np.log(1-h))/X.shape[0]"
   ]
  },
  {
   "cell_type": "code",
   "execution_count": 22,
   "metadata": {},
   "outputs": [],
   "source": [
    "def cost_func(X,y,h,lmda,reg):\n",
    "    if reg=='l1':\n",
    "        return -(sum(y*np.log(h)+(1-y)*np.log(1-h)) + ((lmda*sum(abs(w)))/(2*X.shape[0])))/X.shape[0]\n",
    "    if reg=='l2':\n",
    "        return -(sum(y*np.log(h)+(1-y)*np.log(1-h)) + ((lmda*sum(w**2))/(2*X.shape[0])))/X.shape[0]\n",
    "    if reg==None:\n",
    "        return -sum(y*np.log(h)+(1-y)*np.log(1-h))/X.shape[0]       "
   ]
  },
  {
   "cell_type": "code",
   "execution_count": 19,
   "metadata": {},
   "outputs": [
    {
     "data": {
      "text/plain": [
       "array([0.00693147, 0.00693147, 0.00693147, 0.00693147, 0.00693147,\n",
       "       0.00693147, 0.00693147, 0.00693147, 0.00693147, 0.00693147,\n",
       "       0.00693147, 0.00693147, 0.00693147, 0.00693147, 0.00693147,\n",
       "       0.00693147, 0.00693147, 0.00693147, 0.00693147, 0.00693147,\n",
       "       0.00693147, 0.00693147, 0.00693147, 0.00693147, 0.00693147,\n",
       "       0.00693147, 0.00693147, 0.00693147, 0.00693147, 0.00693147,\n",
       "       0.00693147, 0.00693147, 0.00693147, 0.00693147, 0.00693147,\n",
       "       0.00693147, 0.00693147, 0.00693147, 0.00693147, 0.00693147,\n",
       "       0.00693147, 0.00693147, 0.00693147, 0.00693147, 0.00693147,\n",
       "       0.00693147, 0.00693147, 0.00693147, 0.00693147, 0.00693147,\n",
       "       0.00693147, 0.00693147, 0.00693147, 0.00693147, 0.00693147,\n",
       "       0.00693147, 0.00693147, 0.00693147, 0.00693147, 0.00693147,\n",
       "       0.00693147, 0.00693147, 0.00693147, 0.00693147, 0.00693147,\n",
       "       0.00693147, 0.00693147, 0.00693147, 0.00693147, 0.00693147,\n",
       "       0.00693147, 0.00693147, 0.00693147, 0.00693147, 0.00693147,\n",
       "       0.00693147, 0.00693147, 0.00693147, 0.00693147, 0.00693147,\n",
       "       0.00693147, 0.00693147, 0.00693147, 0.00693147, 0.00693147,\n",
       "       0.00693147, 0.00693147, 0.00693147, 0.00693147, 0.00693147,\n",
       "       0.00693147, 0.00693147, 0.00693147, 0.00693147, 0.00693147,\n",
       "       0.00693147, 0.00693147, 0.00693147, 0.00693147, 0.00693147])"
      ]
     },
     "execution_count": 19,
     "metadata": {},
     "output_type": "execute_result"
    }
   ],
   "source": [
    "cost_func(X,y,h)"
   ]
  },
  {
   "cell_type": "code",
   "execution_count": null,
   "metadata": {},
   "outputs": [],
   "source": []
  },
  {
   "cell_type": "code",
   "execution_count": null,
   "metadata": {},
   "outputs": [],
   "source": []
  },
  {
   "cell_type": "code",
   "execution_count": null,
   "metadata": {},
   "outputs": [],
   "source": []
  },
  {
   "cell_type": "code",
   "execution_count": null,
   "metadata": {},
   "outputs": [],
   "source": []
  },
  {
   "cell_type": "code",
   "execution_count": null,
   "metadata": {},
   "outputs": [],
   "source": []
  },
  {
   "cell_type": "code",
   "execution_count": null,
   "metadata": {},
   "outputs": [],
   "source": []
  },
  {
   "cell_type": "code",
   "execution_count": null,
   "metadata": {},
   "outputs": [],
   "source": []
  },
  {
   "cell_type": "code",
   "execution_count": null,
   "metadata": {},
   "outputs": [],
   "source": []
  },
  {
   "cell_type": "code",
   "execution_count": null,
   "metadata": {},
   "outputs": [],
   "source": []
  },
  {
   "cell_type": "code",
   "execution_count": null,
   "metadata": {},
   "outputs": [],
   "source": []
  },
  {
   "cell_type": "code",
   "execution_count": null,
   "metadata": {},
   "outputs": [],
   "source": []
  },
  {
   "cell_type": "code",
   "execution_count": null,
   "metadata": {},
   "outputs": [],
   "source": []
  },
  {
   "cell_type": "code",
   "execution_count": null,
   "metadata": {},
   "outputs": [],
   "source": []
  },
  {
   "cell_type": "code",
   "execution_count": 24,
   "metadata": {},
   "outputs": [],
   "source": [
    "class logistic_reg():\n",
    "    def __init__(my,learning_rate=0.001,w=0,evolution=100000,regularization='l1',lmda=100):\n",
    "        my.lr=learning_rate\n",
    "        my.w=w\n",
    "        my.cycle = evolution\n",
    "        my.reg = regularization\n",
    "        my.lmda = lmda\n",
    "    \n",
    "    def fit(my,X,y):\n",
    "        my.w = np.zeros(X.shape[1])\n",
    "        for _ in range(my.cycle):\n",
    "            h = my.sigmoid_func(np.dot(X,my.w))\n",
    "            my.w -= my.lr * (sum((h-y)*X)/y.shape[0])\n",
    "        return my\n",
    "    \n",
    "    def sigmoid_func(my,a):\n",
    "        return 1/(1 + np.exp(-a))\n",
    "    \n",
    "    def cost_func(my,X,y,h):\n",
    "        if my.reg=='l1':\n",
    "            return -(sum(y*np.log(h)+(1-y)*np.log(1-h)) + ((my.lmda*sum(abs(w)))/(2*X.shape[0])))/X.shape[0]\n",
    "        if my.reg=='l2':\n",
    "            return -(sum(y*np.log(h)+(1-y)*np.log(1-h)) + ((my.lmda*sum(w**2))/(2*X.shape[0])))/X.shape[0]\n",
    "        if my.reg==None:\n",
    "            return -sum(y*np.log(h)+(1-y)*np.log(1-h))/X.shape[0]    \n",
    "    \n",
    "    def predict(my,predict):\n",
    "        result = my.sigmoid_func(np.dot(predict,my.w))\n",
    "        for i in range(len(result)):\n",
    "            if result[i]>0.5:\n",
    "                result[i]=1\n",
    "            else:\n",
    "                result[i]=0\n",
    "        return result"
   ]
  },
  {
   "cell_type": "code",
   "execution_count": 25,
   "metadata": {},
   "outputs": [],
   "source": [
    "test = logistic_reg()"
   ]
  },
  {
   "cell_type": "code",
   "execution_count": 26,
   "metadata": {},
   "outputs": [
    {
     "data": {
      "text/plain": [
       "0.6931471805599458"
      ]
     },
     "execution_count": 26,
     "metadata": {},
     "output_type": "execute_result"
    }
   ],
   "source": [
    "test.cost_func(X,y,h)"
   ]
  },
  {
   "cell_type": "code",
   "execution_count": null,
   "metadata": {},
   "outputs": [],
   "source": []
  }
 ],
 "metadata": {
  "kernelspec": {
   "display_name": "Python 3",
   "language": "python",
   "name": "python3"
  },
  "language_info": {
   "codemirror_mode": {
    "name": "ipython",
    "version": 3
   },
   "file_extension": ".py",
   "mimetype": "text/x-python",
   "name": "python",
   "nbconvert_exporter": "python",
   "pygments_lexer": "ipython3",
   "version": "3.7.4"
  }
 },
 "nbformat": 4,
 "nbformat_minor": 2
}
